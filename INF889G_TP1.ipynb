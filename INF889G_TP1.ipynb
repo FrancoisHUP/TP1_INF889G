{
  "nbformat": 4,
  "nbformat_minor": 0,
  "metadata": {
    "colab": {
      "provenance": [],
      "authorship_tag": "ABX9TyNc9NQPELMMwhB526/9iDEL",
      "include_colab_link": true
    },
    "kernelspec": {
      "name": "python3",
      "display_name": "Python 3"
    },
    "language_info": {
      "name": "python"
    }
  },
  "cells": [
    {
      "cell_type": "markdown",
      "metadata": {
        "id": "view-in-github",
        "colab_type": "text"
      },
      "source": [
        "<a href=\"https://colab.research.google.com/github/FrancoisHUP/TP1_INF889G/blob/main/INF889G_TP1.ipynb\" target=\"_parent\"><img src=\"https://colab.research.google.com/assets/colab-badge.svg\" alt=\"Open In Colab\"/></a>"
      ]
    },
    {
      "cell_type": "markdown",
      "source": [
        "# TP1 INF 889G H24"
      ],
      "metadata": {
        "id": "iWTinG91HyLc"
      }
    },
    {
      "cell_type": "markdown",
      "source": [
        "## Setup\n"
      ],
      "metadata": {
        "id": "WlqGGvYjJjEH"
      }
    },
    {
      "cell_type": "code",
      "source": [
        "# Connect to my google drive\n",
        "from google.colab import drive\n",
        "drive.mount('/content/drive')"
      ],
      "metadata": {
        "id": "M6z3baVyJntT"
      },
      "execution_count": null,
      "outputs": []
    },
    {
      "cell_type": "markdown",
      "source": [
        "## Exercice 1 : High Dynamic Range (HDR) (5 pts)"
      ],
      "metadata": {
        "id": "O94eBl8mH3Zx"
      }
    },
    {
      "cell_type": "markdown",
      "source": [
        "### a) Soit une série d’images d’une même scène acquises pour différents niveaux d’exposition. Expliquez la différence d’apparence entre ces images, en mentionnant les régions sous-exposées\n",
        "et surexposées."
      ],
      "metadata": {
        "id": "PijLVdfrIM-8"
      }
    }
  ]
}